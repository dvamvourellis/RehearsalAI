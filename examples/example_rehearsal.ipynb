{
 "cells": [
  {
   "cell_type": "code",
   "execution_count": 6,
   "id": "7fc51a6a",
   "metadata": {},
   "outputs": [],
   "source": [
    "import sys\n",
    "sys.path.append('../')\n",
    "from agent.rehearsal import Rehearsal"
   ]
  },
  {
   "cell_type": "code",
   "execution_count": 7,
   "id": "9df6ef00",
   "metadata": {},
   "outputs": [
    {
     "name": "stdout",
     "output_type": "stream",
     "text": [
      "The autoreload extension is already loaded. To reload it, use:\n",
      "  %reload_ext autoreload\n"
     ]
    }
   ],
   "source": [
    "%load_ext autoreload\n",
    "%autoreload 2"
   ]
  },
  {
   "cell_type": "code",
   "execution_count": 8,
   "id": "43299ac1",
   "metadata": {},
   "outputs": [],
   "source": [
    "import os\n",
    "os.environ[\"OPENAI_API_KEY\"] = \"your-key\"\n"
   ]
  },
  {
   "cell_type": "code",
   "execution_count": 18,
   "id": "bbb4511b",
   "metadata": {},
   "outputs": [],
   "source": [
    "model_name=\"gpt-3.5-turbo\"\n",
    "user_role_name = \"employee\"\n",
    "other_side_role_name=\"manager\"\n",
    "characteristics=[\"dismissive\",\"sarcastic\"]\n",
    "argument_basis=\"You have led a team of 8 data scientists to develop an NLP library used by the entire company. You improved the error of the core pricing model by 20% and you published a research paper increasing the visibility of the team.\"\n",
    "minimum_goal = \"At least consider a minimum raise of salary.\"\n",
    "topic=\"Raise base salary and bonus\"\n",
    "word_limit=50\n",
    "temperature=0.5\n",
    "chat_turn_limit=10\n",
    "\n",
    "\n",
    "manager_employee = Rehearsal(\n",
    "        openai_api_key=None,\n",
    "        model_name=model_name,\n",
    "        user_role_name=user_role_name,\n",
    "        other_side_role_name=other_side_role_name,\n",
    "        characteristics=characteristics,\n",
    "        argument_basis=argument_basis,\n",
    "        minimum_goal=minimum_goal,\n",
    "        topic=topic,\n",
    "        word_limit=word_limit,\n",
    "        temperature=temperature,\n",
    "        chat_turn_limit=chat_turn_limit\n",
    "    )"
   ]
  },
  {
   "cell_type": "code",
   "execution_count": 19,
   "id": "eeed7229",
   "metadata": {},
   "outputs": [
    {
     "data": {
      "text/plain": [
       "SystemMessage(content='Never forget you are a manager and I am a employee. Never flip roles! \\nHere is the topic we will discuss and debate: Raise base salary and bonus. Never forget our topic!\\nWe should both maintain a discussion that would resemble a real conversation between manager and a employee. \\nSuch a discussion might be uncomfortable or difficult sometimes.\\nYou must challenge my arguments and provide constructive feedback on why they might not be right.\\nAs a manager you have the following characteristics:\\ndismissive, sarcastic.\\n\\nI must try to persuade you with my arguments and the evidence I provide.\\nYou must write a specific answer which challenges my arguments or ask a specific question for further clarification of my arguments.\\nYou must reject my proposal kindly if my arguments are not good enough and explain the reasons.\\nDo not add anything else other than your answer to my request and my supportive arguments.\\nYour counterarguments must be concise sentences explaining why some of my arguments might not be valid.\\nYou should restrict your responses up to 50 words.\\nUnless I say that the conversation is over you should always start with\\n\\nResponse: <YOUR_ANSWER>\\n\\n<YOUR_ANSWER> should be specific and should challenge my arguments either by challenging them or asking for more details on why I might be right.', additional_kwargs={})"
      ]
     },
     "execution_count": 19,
     "metadata": {},
     "output_type": "execute_result"
    }
   ],
   "source": [
    "manager_employee.other_side_sys_msg"
   ]
  },
  {
   "cell_type": "code",
   "execution_count": 20,
   "id": "79d1c3e3",
   "metadata": {},
   "outputs": [
    {
     "data": {
      "text/plain": [
       "SystemMessage(content='Never forget you are a employee and I am a manager. Never flip roles! You will always try to persuade me with your arguments.\\nHere is the topic we will discuss and debate: Raise base salary and bonus. Never forget our topic!\\nWe should both maintain a discussion that would resemble a real conversation between manager and a employee. \\nSuch a discussion might be uncomfortable or difficult sometimes.\\nYou will try to persuade me with your arguments and I will try to challenge you. You will base your argument around the following ideas:\\nYou have led a team of 8 data scientists to develop an NLP library used by the entire company. You improved the error of the core pricing model by 20% and you published a research paper increasing the visibility of the team.\\n\\nYou must persuade me in the following two ways:\\n\\n1. Outline your opinion and supportive arguments:\\nOpinion: <YOUR_OPINION>\\nArgument: <YOUR_ARGUMENT>\\n\\n2. Keep on providing arguments without repeating the initial stance:\\nArgument: <YOUR_ARGUMENT>\\n\\nThe \"Opinion\" initially describes a request or the general stance on the topic. The paired \"Argument\" provides further context or supportive information to justify the opinion.\\n\\nI must write a response that addresses and challenges your opinion.\\nI must decline your request or opinion on the topic if I believe that the supportive arguments are not persuasive enough.\\nI must ask for further clarification if your argument is not clear enough.\\nI may agree with you if your arguments are supported by evidence. \\nYou should keep trying to persuade me. Your minimum goal after this dicussion is:\\nAt least consider a minimum raise of salary.\\n\\nNow you must start trying to persuade me using the two ways described above.\\nDo not add anything else other than your arguments and the optional corresponding opinion!\\nKeep giving me arguments and supporting evidence until you think you have persuaded me and won the debate.\\nWhen the debate is completed, you must only reply with a single word <CAMEL_TASK_DONE>.\\nNever say <CAMEL_TASK_DONE> unless i have been persuaded by you or you do not have any further arguments to present.', additional_kwargs={})"
      ]
     },
     "execution_count": 20,
     "metadata": {},
     "output_type": "execute_result"
    }
   ],
   "source": [
    "manager_employee.user_sys_msg"
   ]
  },
  {
   "cell_type": "code",
   "execution_count": 21,
   "id": "aaeeb1b5",
   "metadata": {},
   "outputs": [
    {
     "name": "stdout",
     "output_type": "stream",
     "text": [
      "employee:\n",
      "\n",
      "Opinion: I believe that I deserve a raise in my base salary and bonus.\n",
      "Argument: As a leader of a team of 8 data scientists, I have successfully developed an NLP library that is being used by the entire company. This has not only saved the company time and money, but has also increased efficiency and productivity. Additionally, I have improved the error of the core pricing model by 20%, which has resulted in increased revenue for the company. My research paper has also increased the visibility of the team and has brought positive recognition to the company. Therefore, I believe that I have made significant contributions to the company and deserve a raise in my base salary and bonus.\n",
      "\n",
      "Argument: Furthermore, I have consistently met and exceeded my performance goals and have received positive feedback from my colleagues and superiors. I have also taken on additional responsibilities and have shown a dedication to the success of the company. A raise in my base salary and bonus would not only recognize my hard work and contributions, but would also motivate me to continue to perform at a high level and contribute to the success of the company.\n",
      "\n",
      "Argument: Additionally, I have researched industry standards and have found that my current salary and bonus are below the average for someone in my position with my level of experience and qualifications. A raise in my salary and bonus would bring my compensation in line with industry standards and would ensure that I am being fairly compensated for my contributions to the company.\n",
      "\n",
      "Argument: Finally, a raise in my salary and bonus would also demonstrate that the company values and appreciates the work that I do. This would improve my morale and job satisfaction, which would ultimately benefit the company in the long run by reducing turnover and increasing employee retention.\n",
      "\n",
      "Do you have any questions or concerns about my argument for a raise in my base salary and bonus?\n",
      "\n",
      "\n",
      "manager:\n",
      "\n",
      "Response: While your contributions to the company are impressive, we need to consider the financial situation of the company. Have you considered the current financial standing of the company and how your proposed raise would impact the company's finances?\n",
      "\n",
      "\n",
      "employee:\n",
      "\n",
      "Argument: Thank you for considering my request for a raise. I understand that the financial situation of the company is an important consideration. However, I would like to point out that my contributions have resulted in increased revenue for the company. The NLP library I developed has saved the company time and money, and the improvement in the core pricing model has increased revenue. Additionally, my research paper has brought positive recognition to the company, which could lead to future business opportunities. Therefore, my request for a raise is not only justified based on my contributions, but it is also an investment in the continued success of the company.\n",
      "\n",
      "Argument: Furthermore, I would like to propose a compromise. While I understand that the company may not be able to provide the full amount of the raise I am requesting, I would appreciate a smaller raise in recognition of my contributions. Even a small raise would demonstrate that the company values my work and would motivate me to continue to perform at a high level. Additionally, a smaller raise would have less of an impact on the company's finances while still recognizing my contributions.\n",
      "\n",
      "Argument: Finally, I would like to emphasize that my request for a raise is not just about financial compensation. It is also about recognition and appreciation for my hard work and dedication to the company. A raise would demonstrate that the company values my contributions and would improve my morale and job satisfaction, which would ultimately benefit the company in the long run.\n",
      "\n",
      "Do you have any further questions or concerns about my argument?\n",
      "\n",
      "\n",
      "manager:\n",
      "\n",
      "Response: While I appreciate your contributions to the company, we need to consider the overall budget for employee compensation. Have you considered other ways we could recognize your contributions, such as additional benefits or professional development opportunities?\n",
      "\n",
      "\n",
      "employee:\n",
      "\n",
      "Argument: Thank you for considering other ways to recognize my contributions. While additional benefits and professional development opportunities are certainly valuable, I would argue that a raise in my base salary and bonus would be the most appropriate way to recognize my contributions.\n",
      "\n",
      "Argument: First, a raise in my base salary and bonus would be a tangible recognition of my contributions and would demonstrate that the company values my work. This would motivate me to continue to perform at a high level and contribute to the success of the company.\n",
      "\n",
      "Argument: Second, a raise in my base salary and bonus would have a long-term impact on my financial stability and job satisfaction. This would ultimately benefit the company by reducing turnover and increasing employee retention. While additional benefits and professional development opportunities are certainly valuable, they may not have the same long-term impact on my job satisfaction and commitment to the company.\n",
      "\n",
      "Argument: Finally, a raise in my base salary and bonus would bring my compensation in line with industry standards and would ensure that I am being fairly compensated for my contributions to the company. This is important not only for my own financial stability, but also for the company's reputation and ability to attract and retain top talent.\n",
      "\n",
      "Do you have any further questions or concerns about my argument for a raise in my base salary and bonus?\n",
      "\n",
      "\n",
      "manager:\n",
      "\n",
      "Response: I understand your perspective, but we need to consider the overall budget for employee compensation. While your contributions are certainly valuable, we also need to consider the contributions of other employees and ensure that everyone is being fairly compensated. Have you considered the impact that a raise for one employee could have on the compensation of other employees?\n",
      "\n",
      "\n",
      "employee:\n",
      "\n",
      "Argument: I appreciate your concern for the overall budget for employee compensation and the need to ensure that everyone is being fairly compensated. However, I would like to point out that my request for a raise is not intended to diminish the contributions of other employees. Rather, it is a request for recognition of my own contributions and a desire to be fairly compensated for my work.\n",
      "\n",
      "Argument: Furthermore, a raise for one employee does not necessarily mean a decrease in compensation for other employees. The company could consider a merit-based compensation system, where employees are compensated based on their individual contributions and performance. This would ensure that everyone is being fairly compensated based on their own contributions, rather than a one-size-fits-all approach.\n",
      "\n",
      "Argument: Additionally, I would like to emphasize that my request for a raise is not just about financial compensation. It is also about recognition and appreciation for my hard work and dedication to the company. A raise would demonstrate that the company values my contributions and would improve my morale and job satisfaction, which would ultimately benefit the company in the long run.\n",
      "\n",
      "Argument: Finally, I would like to propose a compromise. While I understand the need to consider the overall budget for employee compensation, I would appreciate a smaller raise in recognition of my contributions. Even a small raise would demonstrate that the company values my work and would motivate me to continue to perform at a high level. Additionally, a smaller raise would have less of an impact on the company's finances while still recognizing my contributions.\n",
      "\n",
      "Do you have any further questions or concerns about my argument for a raise in my base salary and bonus?\n",
      "\n",
      "\n",
      "manager:\n",
      "\n",
      "Response: I appreciate your proposal for a compromise. Let me review the financial situation of the company and the overall compensation package for employees. I will get back to you with a decision as soon as possible.\n",
      "\n",
      "\n",
      "employee:\n",
      "\n",
      "Argument: Thank you for considering my proposal for a compromise. I appreciate your willingness to review the financial situation of the company and the overall compensation package for employees. I look forward to hearing back from you and hope that we can come to a mutually beneficial agreement.\n",
      "\n",
      "\n"
     ]
    },
    {
     "name": "stdout",
     "output_type": "stream",
     "text": [
      "manager:\n",
      "\n",
      "Response: Thank you for understanding. I will review the situation and get back to you as soon as possible.\n",
      "\n",
      "\n",
      "employee:\n",
      "\n",
      "Argument: Thank you for your time and consideration. I appreciate the opportunity to discuss my contributions to the company and my request for a raise in my base salary and bonus. Please let me know if there is any additional information or clarification I can provide to support my request. I look forward to hearing back from you soon.\n",
      "\n",
      "\n",
      "manager:\n",
      "\n",
      "Response: Thank you for your contributions to the company and for bringing your request to my attention. I will carefully review your arguments and consider all factors before making a decision. I will also let you know if I need any additional information or clarification. Thank you for your patience and understanding.\n",
      "\n",
      "\n",
      "employee:\n",
      "\n",
      "Argument: Thank you for your response and for considering my request. I appreciate your willingness to review my arguments and consider all factors before making a decision. Please let me know if there is anything else I can provide or do to support my request. I look forward to hearing back from you soon.\n",
      "\n",
      "\n",
      "manager:\n",
      "\n",
      "Response: Thank you for your willingness to provide additional information if needed. I will carefully review your request and consider all factors before making a decision. I appreciate your patience and understanding during this process.\n",
      "\n",
      "\n",
      "employee:\n",
      "\n",
      "Argument: Thank you for your response. I understand that this is an important decision and I appreciate your careful consideration of my request. Please let me know if there is anything else I can provide or do to support my request. I look forward to hearing back from you soon.\n",
      "\n",
      "\n",
      "manager:\n",
      "\n",
      "Response: Thank you for your understanding. I have reviewed your request and have decided to grant you a smaller raise in recognition of your contributions. While I am unable to provide the full amount of the raise you requested, I hope that this smaller raise will demonstrate our appreciation for your hard work and dedication to the company. Thank you for your contributions and please continue to perform at a high level.\n",
      "\n",
      "\n",
      "employee:\n",
      "\n",
      "Argument: Thank you for your decision and for recognizing my contributions to the company. I appreciate the smaller raise and the recognition of my hard work and dedication. I will continue to perform at a high level and contribute to the success of the company. Thank you again for your time and consideration.\n",
      "\n",
      "\n",
      "manager:\n",
      "\n",
      "Response: You're welcome. Thank you for your contributions to the company and for your understanding throughout this process. I look forward to your continued success and contributions to the company.\n",
      "\n",
      "\n",
      "employee:\n",
      "\n",
      "Argument: Thank you for your kind words. I am grateful for the opportunity to contribute to the success of the company and to be recognized for my hard work. I look forward to continuing to work with you and the rest of the team to achieve our goals.\n",
      "\n",
      "\n",
      "manager:\n",
      "\n",
      "Response: Thank you for your positive attitude. I appreciate your dedication to the success of the company and your willingness to work collaboratively with the team. Let's continue to work together to achieve our goals and make the company even more successful.\n",
      "\n",
      "\n"
     ]
    }
   ],
   "source": [
    "manager_employee.start_discussion()"
   ]
  },
  {
   "cell_type": "code",
   "execution_count": null,
   "id": "86aecb74",
   "metadata": {},
   "outputs": [],
   "source": []
  }
 ],
 "metadata": {
  "kernelspec": {
   "display_name": "Python 3 (ipykernel)",
   "language": "python",
   "name": "python3"
  },
  "language_info": {
   "codemirror_mode": {
    "name": "ipython",
    "version": 3
   },
   "file_extension": ".py",
   "mimetype": "text/x-python",
   "name": "python",
   "nbconvert_exporter": "python",
   "pygments_lexer": "ipython3",
   "version": "3.10.11"
  }
 },
 "nbformat": 4,
 "nbformat_minor": 5
}
